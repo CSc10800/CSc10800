{
 "cells": [
  {
   "cell_type": "code",
   "execution_count": null,
   "id": "02b800d3-be8e-4711-8b39-53bc51ad2739",
   "metadata": {},
   "outputs": [],
   "source": [
    "<name of variable> = open(\"<file_path>\", encoding=\"utf-8\").read()\n",
    "print(<name of variable>)"
   ]
  },
  {
   "cell_type": "code",
   "execution_count": null,
   "id": "8fa9fed4-f637-4ea9-9c9b-ad57d689a5d8",
   "metadata": {},
   "outputs": [],
   "source": [
    "<first sentence> = <name of variable>[start:stop]"
   ]
  },
  {
   "cell_type": "code",
   "execution_count": null,
   "id": "6d52d4b6-5cda-469a-91a6-e6303c6a1b77",
   "metadata": {},
   "outputs": [],
   "source": [
    "<replace first sentence> = <first sentence>.replace(\"\\n\", \" \")"
   ]
  },
  {
   "cell_type": "code",
   "execution_count": null,
   "id": "dcf859a3-8b8c-48f1-9152-df59eaa9df15",
   "metadata": {},
   "outputs": [],
   "source": [
    "print(<first sentence>)\n",
    "print(<replace first sentence>)"
   ]
  }
 ],
 "metadata": {
  "kernelspec": {
   "display_name": "Python 3 (ipykernel)",
   "language": "python",
   "name": "python3"
  },
  "language_info": {
   "codemirror_mode": {
    "name": "ipython",
    "version": 3
   },
   "file_extension": ".py",
   "mimetype": "text/x-python",
   "name": "python",
   "nbconvert_exporter": "python",
   "pygments_lexer": "ipython3",
   "version": "3.11.5"
  }
 },
 "nbformat": 4,
 "nbformat_minor": 5
}
