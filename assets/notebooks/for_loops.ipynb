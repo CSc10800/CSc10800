{
 "cells": [
  {
   "cell_type": "markdown",
   "id": "382c6553-8207-485d-884c-e666b3e5efae",
   "metadata": {},
   "source": [
    "# Basic for loop"
   ]
  },
  {
   "cell_type": "code",
   "execution_count": null,
   "id": "4fc7ee5b-ea9f-430d-9975-c3790b0fa53e",
   "metadata": {},
   "outputs": [],
   "source": [
    "animals = ['monkey', 'hippo', 'red panda', 'seal', 'horse', 'cat']"
   ]
  },
  {
   "cell_type": "code",
   "execution_count": null,
   "id": "d0480bd8-b33a-4c99-a29a-c2e41cb5d2f0",
   "metadata": {},
   "outputs": [],
   "source": [
    "for creature in animals:\n",
    "    print(creature)"
   ]
  },
  {
   "cell_type": "code",
   "execution_count": null,
   "id": "3745e88f-e11b-4b44-b040-0b9c99eea0d8",
   "metadata": {},
   "outputs": [],
   "source": [
    "for creature in animals:\n",
    "    print(f\"{creature.title()} is an animal on my list.\")"
   ]
  },
  {
   "cell_type": "markdown",
   "id": "af90f4db-a7a1-4e2e-a688-a6b56f72971b",
   "metadata": {},
   "source": [
    "# For loop with conditionals "
   ]
  },
  {
   "cell_type": "code",
   "execution_count": null,
   "id": "c338723e-8762-4a3b-addc-b8e6486e6262",
   "metadata": {},
   "outputs": [],
   "source": [
    "ages = [28, 19, 32, 30, 45, 52, 57, 45, 32, 33, 25, 22, 32]"
   ]
  },
  {
   "cell_type": "code",
   "execution_count": null,
   "id": "7278478c-be46-4d3e-b0b0-71b0522bc831",
   "metadata": {},
   "outputs": [],
   "source": [
    "for age in ages:\n",
    "    if age > 32:\n",
    "        print(f\"Person is {age} and is older than me.\")\n",
    "    elif age < 32:\n",
    "        print(f\"Person is {age} and is younger than me.\")\n",
    "    else:\n",
    "        print(f\"Person is {age} and is the same age as me.\")"
   ]
  },
  {
   "cell_type": "markdown",
   "id": "49d0a1ad-3f36-4259-988c-3d7d6ee3fc1c",
   "metadata": {},
   "source": [
    "# Building a list"
   ]
  },
  {
   "cell_type": "code",
   "execution_count": 16,
   "id": "21e6e96f-2603-4cb9-a117-84e9498be3b1",
   "metadata": {},
   "outputs": [
    {
     "name": "stdout",
     "output_type": "stream",
     "text": [
      "[28, 19, 30, 25, 22]\n"
     ]
    },
    {
     "data": {
      "text/plain": [
       "5"
      ]
     },
     "execution_count": 16,
     "metadata": {},
     "output_type": "execute_result"
    }
   ],
   "source": [
    "younger = []\n",
    "for age in ages:\n",
    "    if age < 32:\n",
    "        younger.append(age)\n",
    "\n",
    "print(younger)\n",
    "len(younger)"
   ]
  },
  {
   "cell_type": "code",
   "execution_count": 19,
   "id": "30540b34-fd8f-41b3-b115-e48e5e123ce1",
   "metadata": {},
   "outputs": [
    {
     "name": "stdout",
     "output_type": "stream",
     "text": [
      "[45, 52, 57, 45, 33]\n"
     ]
    },
    {
     "data": {
      "text/plain": [
       "5"
      ]
     },
     "execution_count": 19,
     "metadata": {},
     "output_type": "execute_result"
    }
   ],
   "source": [
    "older = [age for age in ages if age > 32]\n",
    "\n",
    "print(older)\n",
    "len(older)"
   ]
  }
 ],
 "metadata": {
  "kernelspec": {
   "display_name": "Python 3 (ipykernel)",
   "language": "python",
   "name": "python3"
  },
  "language_info": {
   "codemirror_mode": {
    "name": "ipython",
    "version": 3
   },
   "file_extension": ".py",
   "mimetype": "text/x-python",
   "name": "python",
   "nbconvert_exporter": "python",
   "pygments_lexer": "ipython3",
   "version": "3.11.5"
  }
 },
 "nbformat": 4,
 "nbformat_minor": 5
}
